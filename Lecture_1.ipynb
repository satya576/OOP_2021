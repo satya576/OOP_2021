{
 "cells": [
  {
   "cell_type": "markdown",
   "id": "a35ca8e2-6a20-4fd6-bb42-8c1368cdfa72",
   "metadata": {},
   "source": [
    "# Object Oriented Programming (MA5741)"
   ]
  },
  {
   "cell_type": "markdown",
   "id": "29638294-d784-4efb-a961-15adbadfa6b2",
   "metadata": {},
   "source": [
    "## Course Details"
   ]
  },
  {
   "cell_type": "markdown",
   "id": "350f3133-3547-4f4d-bc4d-449dafb07cd9",
   "metadata": {},
   "source": [
    "In this course you will be learning Object Oriented Programming (OOP) Concepts, Design, Programming in C++, OOP in Large Scale Computing, MATLAB/PYTHON.\n",
    "\n",
    "<span class=\"orange\">Instructor</span>: Prof. S Sundar\n",
    "\n",
    "<span class=\"orange\">Venue</span> : https://meet.google.com/\n",
    "\n",
    "<span class=\"orange\">Time</span> : 2:00 PM to 4:45 PM every Monday (Slot - P)\n",
    "\n",
    "<span class=\"orange\">Evaluation</span> : Continuous Assessment\n",
    "\n",
    "<span class=\"orange\">Technologies :</span>\n",
    "   1. Code::Blocks for C++<br>\n",
    "   2. Anaconda for Python<br>\n",
    "   3. Open an account with your institute smail in OnlineGDB for assignment submissions<br>\n",
    "   4. Invitation link for assignments https://onlinegdb.com/classroom/invite/BJdP83XZD<br>\n",
    "    \n",
    "<span class=\"orange\">Books :</span>\n",
    "   1. The C++ Programming Language, Bjarne Stroustrup<br>\n",
    "   2. The C Programming Language, Brian Kernighan and Dennis Ritchie<br>\n",
    "   3. Introduction to Algorithms - Thomas H. Cormen, Charles E. Leiserson, Ronald Rivest, Clifford  Stein<br>\n",
    "   4. Python Programming: An introduction to computer science - John Zelle\n",
    "    \n",
    "<div class=\"pagebreak\"> </div><br><br><br>"
   ]
  },
  {
   "cell_type": "markdown",
   "id": "acf5b42c-611b-420e-898f-00b63f3056c8",
   "metadata": {},
   "source": [
    "## Sorting"
   ]
  },
  {
   "cell_type": "markdown",
   "id": "b8b9f09d-3772-46cb-868c-f7a0876b2690",
   "metadata": {},
   "source": [
    "<ul>\n",
    "    <li>Sorting is a fundamental algorithm design problem.</li>\n",
    "    <li>It is often easier to process data if the elements are in a sorted order.</li>\n",
    "</ul>\n",
    "<br>\n",
    "The problem of sorting is as follows:<br><br>\n",
    "\n",
    "<div style=\"text-align:center;\"><span class=\"key\" >Given an array that contains $n$ elements, sort the elements in increasing order</span></div><br>\n",
    "\n",
    "For example, the array<br>\n",
    "$$\\begin{array}{|c|c|c|c|c|c|c|}\n",
    "\\hline\n",
    " 8 & 2 & 6 & 1 & 4 & 7 & 4 \\\\\n",
    " \\hline\n",
    "\\end{array}$$<br>\n",
    "will be as follows after sorting<br>\n",
    "$$\\begin{array}{|c|c|c|c|c|c|c|}\n",
    "\\hline\n",
    " 1 & 2 & 4 & 4 & 6 & 7 & 8 \\\\\n",
    " \\hline\n",
    "\\end{array}$$\n",
    "<div class=\"pagebreak\"> </div><br><br><br>"
   ]
  },
  {
   "cell_type": "markdown",
   "id": "4d2c7cb7-25ab-4f98-97d3-271bcde78bf9",
   "metadata": {},
   "source": [
    "## Bubble Sort"
   ]
  },
  {
   "cell_type": "markdown",
   "id": "bcf367d0-444e-4e2c-afdc-d76b1c7976fa",
   "metadata": {},
   "source": [
    "<ul>\n",
    "    <li>Bubble sort consists of $n$ rounds.</li>\n",
    "    <li>On each round, the algorithm iterates through the elements of the array.</li>\n",
    "    <li>It swaps the consecutive elements which are not in correct order.</li>\n",
    "</ul><br>\n",
    "For Example, sort the below array using bubble sort<br>\n",
    "$$\\begin{array}{|c|c|c|c|c|c|c|}\n",
    "\\hline\n",
    " 6 & 2 & 8 & 4 & 7 & 1 \\\\\n",
    " \\hline\n",
    "\\end{array}$$<br>\n",
    "For convenient, write the array in vertical form and perform bubble sort rounds.<br><br>\n",
    "<span class=\"orange\">Round-1 : </span> &nbsp;&nbsp;&nbsp;\n",
    "$\\begin{array}{ccccccc}\n",
    " \\color{orange}{6} &                2  &                2  &                2  &                2  &       2 \\\\\n",
    " \\color{orange}{2} & \\color{orange}{6} &                6  &                6  &                6  &       6 \\\\\n",
    "                8  & \\color{orange}{8} & \\color{orange}{8} &                4  &                4  &       4 \\\\\n",
    "                4  &                4  & \\color{orange}{4} & \\color{orange}{8} &                7  &       7 \\\\\n",
    "                7  &                7  &                7  & \\color{orange}{7} & \\color{orange}{8} &       1 \\\\\n",
    "                1  &                1  &                1  &                1  & \\color{orange}{1} & \\fbox{8}\\\\\n",
    "\\end{array}$\n",
    "<div class=\"pagebreak\"> </div><br><br><br>\n",
    "\n",
    "<span class=\"orange\">Round-2 : </span> &nbsp;&nbsp;&nbsp;\n",
    "$\\begin{array}{ccccccc}\n",
    " \\color{orange}{2} &                2  &                2  &                2  &     2  \\\\\n",
    " \\color{orange}{6} & \\color{orange}{6} &                4  &                4  &     4  \\\\\n",
    "                4  & \\color{orange}{4} & \\color{orange}{6} &                6  &     6  \\\\\n",
    "                7  &                7  & \\color{orange}{7} & \\color{orange}{7} &     1  \\\\\n",
    "                1  &                1  &                1  & \\color{orange}{1} &     \\fbox{7}  \\\\\n",
    "                8  &                8  &                8  &                8  &     \\fbox{8}  \\\\\n",
    "\\end{array}$<br><br><br><br>\n",
    "\n",
    "<span class=\"orange\">Round-3 : </span> &nbsp;&nbsp;&nbsp;\n",
    "$\\begin{array}{ccccccc}\n",
    " \\color{orange}{2} &                2  &                2  &      2   \\\\\n",
    " \\color{orange}{4} & \\color{orange}{4} &                4  &      4   \\\\\n",
    "                6  & \\color{orange}{6} & \\color{orange}{6} &      1   \\\\\n",
    "                1  &                1  & \\color{orange}{1} & \\fbox{6} \\\\\n",
    "                7  &                7  &                7  & \\fbox{7} \\\\\n",
    "                8  &                8  &                8  & \\fbox{8}   \\\\\n",
    "\\end{array}$\n",
    "<div class=\"pagebreak\"> </div><br><br><br>\n",
    "\n",
    "<span class=\"orange\">Round-4 : </span> &nbsp;&nbsp;&nbsp;\n",
    "$\\begin{array}{ccccccc}\n",
    " \\color{orange}{2} &                2  & 2   \\\\\n",
    " \\color{orange}{4} & \\color{orange}{4} & 1   \\\\\n",
    "                1  & \\color{orange}{1} & \\fbox{4}  \\\\\n",
    "                6  &                6  & \\fbox{6}  \\\\\n",
    "                7  &                7  & \\fbox{7}   \\\\\n",
    "                8  &                8  & \\fbox{8}   \\\\\n",
    "\\end{array}$<br><br><br><br>\n",
    "\n",
    "<span class=\"orange\">Round-5 : </span> &nbsp;&nbsp;&nbsp;\n",
    "$\\begin{array}{ccccccc}\n",
    " \\color{orange}{2} & \\fbox{1}   \\\\\n",
    " \\color{orange}{1} & \\fbox{2}   \\\\\n",
    "                4  & \\fbox{4} \\\\\n",
    "                6  & \\fbox{6} \\\\\n",
    "                7  & \\fbox{7} \\\\\n",
    "                8  & \\fbox{8} \\\\\n",
    "\\end{array}$<br><br><br><br>\n",
    "\n",
    "<div class=\"pagebreak\"> </div><br><br><br>\n",
    "The algorithm can be implemented as follows:"
   ]
  },
  {
   "cell_type": "code",
   "execution_count": 1,
   "id": "99926641-f52c-4da9-81ed-f9d4d31fb101",
   "metadata": {},
   "outputs": [],
   "source": [
    "#include<bits/stdc++.h>\n",
    "using namespace std;"
   ]
  },
  {
   "cell_type": "code",
   "execution_count": 2,
   "id": "d8ad5e19-939e-4d9b-880e-4595aca075ec",
   "metadata": {},
   "outputs": [],
   "source": [
    "void swap(int &x, int &y){\n",
    "    int temp = x;\n",
    "    x = y; \n",
    "    y = temp;\n",
    "}"
   ]
  },
  {
   "cell_type": "code",
   "execution_count": 3,
   "id": "bf81370e-f341-4ad3-83d8-397b1261b91a",
   "metadata": {},
   "outputs": [
    {
     "name": "stdout",
     "output_type": "stream",
     "text": [
      "1 2 4 6 7 8 "
     ]
    }
   ],
   "source": [
    "int main(){\n",
    "    int A[6] = {6,2,8,4,7,1};\n",
    "    int n = 6;\n",
    "    for(int i = 0 ; i < n ; i++){\n",
    "        for(int j = 0 ; j < n - 1 - i; j++){\n",
    "            if(A[j] > A[j + 1])\n",
    "                swap(A[j], A[j + 1]);\n",
    "        }\n",
    "    }\n",
    "    // Print sorted array\n",
    "    for(int i = 0 ; i < n ; i++)\n",
    "        cout<<A[i]<<\" \";\n",
    "}\n",
    "main();"
   ]
  },
  {
   "cell_type": "markdown",
   "id": "643b9444-27a9-485a-9e3a-26dff0ce63c1",
   "metadata": {},
   "source": [
    "<div class=\"pagebreak\"> </div><br><br><br>"
   ]
  },
  {
   "cell_type": "markdown",
   "id": "5f04e44c-a02f-41a2-9f6c-d244bb96c561",
   "metadata": {},
   "source": [
    "## Quick sort"
   ]
  },
  {
   "cell_type": "markdown",
   "id": "2165d290-5349-4c1d-b3e9-b987241fcac0",
   "metadata": {},
   "source": [
    "Quick sort consists of four steps:\n",
    "For Example, sort the below array using Quick sort<br><br>\n",
    "        Step - 1 : If the list size is 1, return immediately.<br><br>\n",
    "        Step - 2 : Pick an element in the list to serve as a pivot.<br><br>\n",
    "        Step - 3 : Partition the array into two parts such that one with elements <br>\n",
    "        &nbsp;&nbsp;&nbsp;&nbsp;&nbsp;&nbsp;&nbsp;&nbsp;&nbsp;&nbsp;&nbsp;smaller than pivot and other with elements larger than the pivot. <br>    \n",
    "        Step - 4 : Recursively repeat the same for both partitions.<br>\n",
    "              \n",
    "For example, sort the following array using quick sort<br><br>\n",
    "$$\\begin{array}{|c|c|c|c|c|c|c|}\n",
    "\\hline\n",
    " 8 & 11 & 6 & 9 & 15 & 2 \\\\\n",
    " \\hline\n",
    "\\end{array}$$<br>\n",
    "Choose $8$ as pivot\n",
    "$$\\begin{array}{|c|c|c|c|c|c|c|}\n",
    "\\hline\n",
    " \\color{orange}{8} & 11 & 6 & 9 & 15 & 2 \\\\\n",
    " \\hline\n",
    "\\end{array}$$<br>\n",
    "\n",
    "<div class=\"pagebreak\"> </div><br> \n",
    "$$\\begin{array}{|c|c|c|c|c|c|c|}\n",
    "\\hline\n",
    " \\color{orange}{8} & 11 & 6 & 9 & 15 & 2 \\\\\n",
    " \\hline\n",
    "\\end{array}$$<br>\n",
    "\n",
    "<span class=\"orange\">Scan from left:</span><br>\n",
    "Is $11 > \\color{orange}{8}$ ? Yes.   <br> \n",
    "<span class=\"orange\">Scan from right:</span><br>\n",
    "Is $2 < \\color{orange}{8}$? Yes. <br>\n",
    "Are both scan directions meet? No.  Swap $11$ and $2$.\n",
    "$$\\begin{array}{|c|c|c|c|c|c|c|}\n",
    "\\hline\n",
    " \\color{orange}{8} & \\color{skyblue}{2} & 6 & 9 & 15 & \\color{skyblue}{11} \\\\\n",
    " \\hline\n",
    "\\end{array}$$<br>\n",
    "\n",
    "\n",
    "\n",
    "<span class=\"orange\">Scan from left:</span><br>\n",
    "Is $6 > \\color{orange}{8}$ ? No. <br>\n",
    "Is $9 > \\color{orange}{8}$ ? Yes. <br>\n",
    "<span class=\"orange\">Scan from right:</span><br>\n",
    "Is $15 < \\color{orange}{8}$? No. <br> \n",
    "Is $9 < \\color{orange}{8}$? No. <br>\n",
    "Is $\\color{skyblue}{6} < \\color{orange}{8}$? Yes. <br>\n",
    "Are both scan directions meet? Yes.  Nothing to swap.<br>\n",
    "\n",
    "Now pivot $\\color{orange}{8}$ finds its right position at the element $\\color{skyblue}{6}$(end point of the right side scan). So swap $8$ and $6$.\n",
    "\n",
    "\n",
    "\n",
    "$$\\begin{array}{|c|c|c|c|c|c|c|}\n",
    "\\hline\n",
    " 6 & 2 & \\color{orange}{8} & 9 & 15 & 11 \\\\\n",
    " \\hline\n",
    "\\end{array}$$<br>\n",
    "\n",
    "\n",
    "You can notice that all the elements below $8$ are smaller and above are bigger than $8$.<br>\n",
    "Now partition the array into two parts below $8$ and above $8$: <br>\n",
    "<center>\n",
    "$\\begin{array}{|c|c|}\n",
    "\\hline\n",
    " 6 & 2  \\\\\n",
    " \\hline\n",
    "\\end{array}$ &nbsp;&nbsp;&nbsp;&nbsp;&nbsp;\n",
    "$\\begin{array}{|c|c|c|}\n",
    "\\hline\n",
    " 9 & 15 & 11\\\\\n",
    " \\hline\n",
    "\\end{array}$\n",
    " </center>\n",
    "<br>\n",
    "Now repeat the process for these two partitions:<br>\n",
    "Choose $6$ as pivot.\n",
    "$$\\begin{array}{|c|c|}\n",
    "\\hline\n",
    " \\color{orange}{6} & 2  \\\\\n",
    " \\hline\n",
    "\\end{array}$$\n",
    "<br>\n",
    "<span class=\"orange\">Scan from left:</span><br>\n",
    "Is $2 > \\color{orange}{6}$? No. (Stop! no elements to scan further.)<br><br>\n",
    "<span class=\"orange\">Scan from right:</span><br>\n",
    "Is $2 < \\color{orange}{6}$? Yes. <br>\n",
    "Are both scan directions meet? Yes.  Nothing to swap.<br><br>\n",
    "Now pivot $\\color{orange}{6}$ finds its right position at the element $\\color{skyblue}{2}$(end point of the right side scan).<br> Swap $2$ and $6$.\n",
    "\n",
    "\n",
    "$$\\begin{array}{|c|c|}\n",
    "\\hline\n",
    " 2 & 6  \\\\\n",
    " \\hline\n",
    "\\end{array}$$\n",
    "\n",
    "<div class=\"pagebreak\"> </div><br><br> \n",
    "$$\\begin{array}{|c|c|}\n",
    "\\hline\n",
    " 2 & 6  \\\\\n",
    " \\hline\n",
    "\\end{array}$$ <br>\n",
    "Again partition this into two parts below the pivot $6$ and above $6$. There are no elements above $6$ so its get partition into only one part. <br>\n",
    "$$\\begin{array}{|c|}\n",
    "\\hline\n",
    " 2   \\\\\n",
    " \\hline\n",
    "\\end{array}$$\n",
    "Nothing to do further as size of partition reduced to sigle element.(Stop the process for left partition)<br><br>\n",
    "Now repeat the same for right partition $\\begin{array}{|c|c|c|}\n",
    "\\hline\n",
    " 9 & 15 & 11\\\\\n",
    " \\hline\n",
    "\\end{array}$ and <br> obtain sorted array as $\\begin{array}{|c|c|c|}\n",
    "\\hline\n",
    " 9 & 11 & 15\\\\\n",
    " \\hline\n",
    "\\end{array}$.<br><br><br>\n",
    "Finally, all partitions are get sorted so we can see them together as sorted array as below:<br>\n",
    "$$\\begin{array}{|c|c|c|c|c|c|c|}\n",
    "\\hline\n",
    " 2 & 6 & 8 & 9 & 11 & 15 \\\\\n",
    " \\hline\n",
    "\\end{array}$$<br>\n",
    "\n",
    "<div class=\"pagebreak\"> </div><br><br> \n",
    "The algorithm can be implemented as follows:<br>"
   ]
  },
  {
   "cell_type": "code",
   "execution_count": 5,
   "id": "303f6fb1-bfad-4b70-955d-91c02d12d791",
   "metadata": {},
   "outputs": [],
   "source": [
    "#include<iostream>\n",
    "using namespace std;"
   ]
  },
  {
   "cell_type": "code",
   "execution_count": 6,
   "id": "1ad12cb5-2316-40ec-b604-eccb995d43c3",
   "metadata": {},
   "outputs": [],
   "source": [
    "void swap(int& x, int& y){\n",
    "    int temp = x;\n",
    "    x = y;\n",
    "    y = temp;\n",
    "}"
   ]
  },
  {
   "cell_type": "code",
   "execution_count": 9,
   "id": "35da54aa-98eb-4688-b265-cb85431c8a6f",
   "metadata": {},
   "outputs": [],
   "source": [
    "int partition(int* A, int first, int last){\n",
    "    int pivot = A[first];\n",
    "    int i = first;\n",
    "    int j = last;\n",
    "    \n",
    "    while(i < j){\n",
    "         while(A[i] <= pivot && i < last)\n",
    "            i++;\n",
    "         while(A[j] > pivot)\n",
    "            j--;\n",
    "         if(i < j)\n",
    "            swap(A[i], A[j]);\n",
    "      }\n",
    "\n",
    "      A[first] = A[j];\n",
    "      A[j] = pivot;\n",
    "      return j;\n",
    "}"
   ]
  },
  {
   "cell_type": "code",
   "execution_count": 10,
   "id": "8c2f4788-5aba-4ad3-9a97-164d3a52c497",
   "metadata": {},
   "outputs": [],
   "source": [
    "void quickSort(int* A, int first, int last){\n",
    "      if(first < last){\n",
    "        int k = partition(A, first, last); \n",
    "        quickSort(A, first, k - 1);\n",
    "        quickSort(A, k + 1, last);\n",
    "      }\n",
    "}"
   ]
  },
  {
   "cell_type": "code",
   "execution_count": 13,
   "id": "5fd3df5b-4fa0-40bc-891c-66e315452313",
   "metadata": {},
   "outputs": [
    {
     "name": "stdout",
     "output_type": "stream",
     "text": [
      "List after quick sort:\n",
      "2 6 8 9 11 15 "
     ]
    }
   ],
   "source": [
    "int main()\n",
    "{\n",
    "    int A[6] = {8,11,6,9,15,2};\n",
    "    int n = 6;\n",
    "    \n",
    "    // call quick Sort\n",
    "    quickSort(A, 0, n-1);\n",
    "    cout<<\"List after quick sort:\"<<endl;\n",
    "    // print the array \n",
    "    for(int i = 0 ; i < n ; i++)\n",
    "        cout<<A[i]<<\" \";\n",
    "    return 0;\n",
    "}\n",
    "main();"
   ]
  },
  {
   "cell_type": "markdown",
   "id": "5a230a20-fcb2-4e5d-9748-59b711551f90",
   "metadata": {},
   "source": [
    "<div class=\"pagebreak\"> </div><br><br> \n",
    "<center>\n",
    "    <h1>THANK YOU</h1>\n",
    "</center>\n",
    "<div class=\"pagebreak\"> </div><br><br> "
   ]
  },
  {
   "cell_type": "code",
   "execution_count": 2,
   "id": "f3659e29-b015-4b8e-a203-70949f3f9261",
   "metadata": {
    "tags": []
   },
   "outputs": [
    {
     "data": {
      "text/html": [
       "\n",
       "<link rel=\"stylesheet\" href=\"z_custom.css\">\n"
      ],
      "text/plain": [
       "<IPython.core.display.HTML object>"
      ]
     },
     "execution_count": 2,
     "metadata": {},
     "output_type": "execute_result"
    }
   ],
   "source": [
    "from IPython.core.display import HTML\n",
    "HTML(\"\"\"\n",
    "<link rel=\"stylesheet\" href=\"z_custom.css\">\n",
    "\"\"\")"
   ]
  }
 ],
 "metadata": {
  "kernelspec": {
   "display_name": "C++17",
   "language": "C++17",
   "name": "xcpp17"
  },
  "language_info": {
   "codemirror_mode": "text/x-c++src",
   "file_extension": ".cpp",
   "mimetype": "text/x-c++src",
   "name": "c++",
   "version": "17"
  },
  "toc-autonumbering": false
 },
 "nbformat": 4,
 "nbformat_minor": 5
}
